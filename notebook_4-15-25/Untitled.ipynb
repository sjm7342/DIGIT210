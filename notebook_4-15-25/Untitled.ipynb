{
 "cells": [
  {
   "cell_type": "code",
   "execution_count": 2,
   "id": "7df1b1bf-ffcc-4897-8572-05d4a2607316",
   "metadata": {},
   "outputs": [
    {
     "ename": "ModuleNotFoundError",
     "evalue": "No module named 'spacy'",
     "output_type": "error",
     "traceback": [
      "\u001b[31m---------------------------------------------------------------------------\u001b[39m",
      "\u001b[31mModuleNotFoundError\u001b[39m                       Traceback (most recent call last)",
      "\u001b[36mCell\u001b[39m\u001b[36m \u001b[39m\u001b[32mIn[2]\u001b[39m\u001b[32m, line 1\u001b[39m\n\u001b[32m----> \u001b[39m\u001b[32m1\u001b[39m \u001b[38;5;28;01mimport\u001b[39;00m\u001b[38;5;250m \u001b[39m\u001b[34;01mspacy\u001b[39;00m\n",
      "\u001b[31mModuleNotFoundError\u001b[39m: No module named 'spacy'"
     ]
    }
   ],
   "source": [
    "import spacy"
   ]
  },
  {
   "cell_type": "code",
   "execution_count": 3,
   "id": "bf2fdaf5-619e-4a77-9333-99b33fbd0292",
   "metadata": {},
   "outputs": [],
   "source": [
    "import os"
   ]
  },
  {
   "cell_type": "code",
   "execution_count": 7,
   "id": "3fc55872-8c34-4aa3-a0a2-d308752bb7ff",
   "metadata": {},
   "outputs": [
    {
     "ename": "FileNotFoundError",
     "evalue": "[Errno 2] No such file or directory: 'github/DIGIT210/notebook_4-15-25/grimm.txt'",
     "output_type": "error",
     "traceback": [
      "\u001b[31m---------------------------------------------------------------------------\u001b[39m",
      "\u001b[31mFileNotFoundError\u001b[39m                         Traceback (most recent call last)",
      "\u001b[36mCell\u001b[39m\u001b[36m \u001b[39m\u001b[32mIn[7]\u001b[39m\u001b[32m, line 2\u001b[39m\n\u001b[32m      1\u001b[39m collPath = \u001b[33m'\u001b[39m\u001b[33mgithub/DIGIT210/notebook_4-15-25/grimm.txt\u001b[39m\u001b[33m'\u001b[39m\n\u001b[32m----> \u001b[39m\u001b[32m2\u001b[39m \u001b[38;5;28;01mfor\u001b[39;00m file \u001b[38;5;129;01min\u001b[39;00m \u001b[43mos\u001b[49m\u001b[43m.\u001b[49m\u001b[43mlistdir\u001b[49m\u001b[43m(\u001b[49m\u001b[43mcollPath\u001b[49m\u001b[43m)\u001b[49m:\n\u001b[32m      3\u001b[39m     \u001b[38;5;28;01mif\u001b[39;00m file.endswith(\u001b[33m\"\u001b[39m\u001b[33m.txt\u001b[39m\u001b[33m\"\u001b[39m):\n\u001b[32m      4\u001b[39m         filepath = \u001b[33mf\u001b[39m\u001b[33m\"\u001b[39m\u001b[38;5;132;01m{\u001b[39;00mcollPath\u001b[38;5;132;01m}\u001b[39;00m\u001b[33m/\u001b[39m\u001b[38;5;132;01m{\u001b[39;00mfile\u001b[38;5;132;01m}\u001b[39;00m\u001b[33m\"\u001b[39m\n",
      "\u001b[31mFileNotFoundError\u001b[39m: [Errno 2] No such file or directory: 'github/DIGIT210/notebook_4-15-25/grimm.txt'"
     ]
    }
   ],
   "source": [
    "collPath = 'github/DIGIT210/notebook_4-15-25/grimm.txt'\n",
    "for file in os.listdir(collPath):\n",
    "    if file.endswith(\".txt\"):\n",
    "        filepath = f\"{collPath}/{file}\"\n",
    "        name, extension = os.path.splitext(file)\n",
    "        print(name)\n",
    "        with open(filepath, 'r', encoding='utf8') as f:\n",
    "            readFile = f.read()\n",
    "            lengthFile = len(readFile)\n",
    "            print(lengthFile)"
   ]
  },
  {
   "cell_type": "code",
   "execution_count": 8,
   "id": "02ca75bb-161e-479e-b9ad-7152875655b8",
   "metadata": {},
   "outputs": [
    {
     "ename": "FileNotFoundError",
     "evalue": "[Errno 2] No such file or directory: 'github/DIGIT210/notebook_4-15-25/grimm.txt'",
     "output_type": "error",
     "traceback": [
      "\u001b[31m---------------------------------------------------------------------------\u001b[39m",
      "\u001b[31mFileNotFoundError\u001b[39m                         Traceback (most recent call last)",
      "\u001b[36mCell\u001b[39m\u001b[36m \u001b[39m\u001b[32mIn[8]\u001b[39m\u001b[32m, line 1\u001b[39m\n\u001b[32m----> \u001b[39m\u001b[32m1\u001b[39m \u001b[38;5;28;01mfor\u001b[39;00m file \u001b[38;5;129;01min\u001b[39;00m \u001b[43mos\u001b[49m\u001b[43m.\u001b[49m\u001b[43mlistdir\u001b[49m\u001b[43m(\u001b[49m\u001b[43mcollPath\u001b[49m\u001b[43m)\u001b[49m:\n\u001b[32m      2\u001b[39m     \u001b[38;5;28;01mif\u001b[39;00m file.endswith(\u001b[33m\"\u001b[39m\u001b[33m.txt\u001b[39m\u001b[33m\"\u001b[39m):\n\u001b[32m      3\u001b[39m         filepath = \u001b[33mf\u001b[39m\u001b[33m\"\u001b[39m\u001b[38;5;132;01m{\u001b[39;00mcollPath\u001b[38;5;132;01m}\u001b[39;00m\u001b[33m/\u001b[39m\u001b[38;5;132;01m{\u001b[39;00mfile\u001b[38;5;132;01m}\u001b[39;00m\u001b[33m\"\u001b[39m\n",
      "\u001b[31mFileNotFoundError\u001b[39m: [Errno 2] No such file or directory: 'github/DIGIT210/notebook_4-15-25/grimm.txt'"
     ]
    }
   ],
   "source": [
    "for file in os.listdir(collPath):\n",
    "    if file.endswith(\".txt\"):\n",
    "        filepath = f\"{collPath}/{file}\"\n",
    "        name, extension = os.path.splitext(file)\n",
    "        print(name)\n",
    "        with open(filepath, 'r', encoding='utf8') as f:\n",
    "            readFile = f.read()\n",
    "            spacyRead = nlp(readFile)\n",
    "            for token in spacyRead:\n",
    "                print(token.text, \"---->\", token.pos_, \":::::\", token.lemma_)                 "
   ]
  },
  {
   "cell_type": "code",
   "execution_count": 9,
   "id": "b9333d9f-7c75-46d1-a807-bf1037bebf39",
   "metadata": {},
   "outputs": [
    {
     "ename": "FileNotFoundError",
     "evalue": "[Errno 2] No such file or directory: 'github/DIGIT210/notebook_4-15-25/grimm.txt'",
     "output_type": "error",
     "traceback": [
      "\u001b[31m---------------------------------------------------------------------------\u001b[39m",
      "\u001b[31mFileNotFoundError\u001b[39m                         Traceback (most recent call last)",
      "\u001b[36mCell\u001b[39m\u001b[36m \u001b[39m\u001b[32mIn[9]\u001b[39m\u001b[32m, line 9\u001b[39m\n\u001b[32m      6\u001b[39m     uniqueLems = \u001b[38;5;28mset\u001b[39m(wordList)\n\u001b[32m      7\u001b[39m     \u001b[38;5;28;01mreturn\u001b[39;00m uniqueLems\n\u001b[32m----> \u001b[39m\u001b[32m9\u001b[39m \u001b[38;5;28;01mfor\u001b[39;00m file \u001b[38;5;129;01min\u001b[39;00m \u001b[43mos\u001b[49m\u001b[43m.\u001b[49m\u001b[43mlistdir\u001b[49m\u001b[43m(\u001b[49m\u001b[43mcollPath\u001b[49m\u001b[43m)\u001b[49m:\n\u001b[32m     10\u001b[39m     \u001b[38;5;28;01mif\u001b[39;00m file.endswith(\u001b[33m\"\u001b[39m\u001b[33m.txt\u001b[39m\u001b[33m\"\u001b[39m):\n\u001b[32m     11\u001b[39m         filepath = \u001b[33mf\u001b[39m\u001b[33m\"\u001b[39m\u001b[38;5;132;01m{\u001b[39;00mcollPath\u001b[38;5;132;01m}\u001b[39;00m\u001b[33m/\u001b[39m\u001b[38;5;132;01m{\u001b[39;00mfile\u001b[38;5;132;01m}\u001b[39;00m\u001b[33m\"\u001b[39m\n",
      "\u001b[31mFileNotFoundError\u001b[39m: [Errno 2] No such file or directory: 'github/DIGIT210/notebook_4-15-25/grimm.txt'"
     ]
    }
   ],
   "source": [
    "def wordCollector(words, unit):\n",
    "    wordList = []\n",
    "    for token in words:\n",
    "        if token.pos_ == \"ADJ\":\n",
    "            wordList.append((token.lemma_, unit))\n",
    "    uniqueLems = set(wordList)\n",
    "    return uniqueLems\n",
    "\n",
    "for file in os.listdir(collPath):\n",
    "    if file.endswith(\".txt\"):\n",
    "        filepath = f\"{collPath}/{file}\"\n",
    "        name, extension = os.path.splitext(file)\n",
    "        with open(filepath, 'r', encoding='utf8') as f:\n",
    "            readFile = f.read()\n",
    "            spacyRead = nlp(readFile)\n",
    "            myWords = wordCollector(spacyRead, name)\n",
    "            print(myWords)"
   ]
  },
  {
   "cell_type": "code",
   "execution_count": 10,
   "id": "e6e53e91-09ca-4d74-a093-7ffd3b7dc98c",
   "metadata": {},
   "outputs": [
    {
     "ename": "FileNotFoundError",
     "evalue": "[Errno 2] No such file or directory: 'github/DIGIT210/notebook_4-15-25/grimm.txt'",
     "output_type": "error",
     "traceback": [
      "\u001b[31m---------------------------------------------------------------------------\u001b[39m",
      "\u001b[31mFileNotFoundError\u001b[39m                         Traceback (most recent call last)",
      "\u001b[36mCell\u001b[39m\u001b[36m \u001b[39m\u001b[32mIn[10]\u001b[39m\u001b[32m, line 21\u001b[39m\n\u001b[32m     18\u001b[39m     df = pd.DataFrame(data)\n\u001b[32m     19\u001b[39m     \u001b[38;5;28;01mreturn\u001b[39;00m df\n\u001b[32m---> \u001b[39m\u001b[32m21\u001b[39m \u001b[38;5;28;01mfor\u001b[39;00m file \u001b[38;5;129;01min\u001b[39;00m \u001b[43mos\u001b[49m\u001b[43m.\u001b[49m\u001b[43mlistdir\u001b[49m\u001b[43m(\u001b[49m\u001b[43mcollPath\u001b[49m\u001b[43m)\u001b[49m:\n\u001b[32m     22\u001b[39m     \u001b[38;5;28;01mif\u001b[39;00m file.endswith(\u001b[33m\"\u001b[39m\u001b[33m.txt\u001b[39m\u001b[33m\"\u001b[39m):\n\u001b[32m     23\u001b[39m         filepath = \u001b[33mf\u001b[39m\u001b[33m\"\u001b[39m\u001b[38;5;132;01m{\u001b[39;00mcollPath\u001b[38;5;132;01m}\u001b[39;00m\u001b[33m/\u001b[39m\u001b[38;5;132;01m{\u001b[39;00mfile\u001b[38;5;132;01m}\u001b[39;00m\u001b[33m\"\u001b[39m\n",
      "\u001b[31mFileNotFoundError\u001b[39m: [Errno 2] No such file or directory: 'github/DIGIT210/notebook_4-15-25/grimm.txt'"
     ]
    }
   ],
   "source": [
    "import pandas as pd\n",
    "\n",
    "def wordCollector(words, unit):\n",
    "    wordList = []\n",
    "    nodeAtts = []\n",
    "    unitList = []\n",
    "    for token in words:\n",
    "        if token.pos_ == \"ADJ\":\n",
    "            wordList.append(token.lemma_)\n",
    "            nodeAtts.append(token.pos_)\n",
    "            unitList.append(unit)\n",
    "\n",
    "    data = {\n",
    "        'word': wordList,\n",
    "        'nodeType': nodeAtts,\n",
    "        'unit': unitList\n",
    "    }\n",
    "    df = pd.DataFrame(data)\n",
    "    return df\n",
    "\n",
    "for file in os.listdir(collPath):\n",
    "    if file.endswith(\".txt\"):\n",
    "        filepath = f\"{collPath}/{file}\"\n",
    "        name, extension = os.path.splitext(file)\n",
    "        with open(filepath, 'r', encoding='utf8') as f:\n",
    "            readFile = f.read()\n",
    "            spacyRead = nlp(readFile)\n",
    "            myDataFrame = wordCollector(spacyRead, name)\n",
    "            print(myDataFrame)"
   ]
  },
  {
   "cell_type": "code",
   "execution_count": 11,
   "id": "06221ebb-acfd-4d0c-a0bf-0f960e2ba03c",
   "metadata": {},
   "outputs": [
    {
     "ename": "FileNotFoundError",
     "evalue": "[Errno 2] No such file or directory: 'github/DIGIT210/notebook_4-15-25/grimm.txt'",
     "output_type": "error",
     "traceback": [
      "\u001b[31m---------------------------------------------------------------------------\u001b[39m",
      "\u001b[31mFileNotFoundError\u001b[39m                         Traceback (most recent call last)",
      "\u001b[36mCell\u001b[39m\u001b[36m \u001b[39m\u001b[32mIn[11]\u001b[39m\u001b[32m, line 23\u001b[39m\n\u001b[32m     19\u001b[39m     \u001b[38;5;28;01mreturn\u001b[39;00m df\n\u001b[32m     21\u001b[39m allDataFrames = []\n\u001b[32m---> \u001b[39m\u001b[32m23\u001b[39m \u001b[38;5;28;01mfor\u001b[39;00m file \u001b[38;5;129;01min\u001b[39;00m \u001b[43mos\u001b[49m\u001b[43m.\u001b[49m\u001b[43mlistdir\u001b[49m\u001b[43m(\u001b[49m\u001b[43mcollPath\u001b[49m\u001b[43m)\u001b[49m:\n\u001b[32m     24\u001b[39m     \u001b[38;5;28;01mif\u001b[39;00m file.endswith(\u001b[33m\"\u001b[39m\u001b[33m.txt\u001b[39m\u001b[33m\"\u001b[39m):\n\u001b[32m     25\u001b[39m         filepath = \u001b[33mf\u001b[39m\u001b[33m\"\u001b[39m\u001b[38;5;132;01m{\u001b[39;00mcollPath\u001b[38;5;132;01m}\u001b[39;00m\u001b[33m/\u001b[39m\u001b[38;5;132;01m{\u001b[39;00mfile\u001b[38;5;132;01m}\u001b[39;00m\u001b[33m\"\u001b[39m\n",
      "\u001b[31mFileNotFoundError\u001b[39m: [Errno 2] No such file or directory: 'github/DIGIT210/notebook_4-15-25/grimm.txt'"
     ]
    }
   ],
   "source": [
    "import pandas as pd\n",
    "\n",
    "def wordCollector(words, unit):\n",
    "    wordList = []\n",
    "    nodeAtts = []\n",
    "    unitList = []\n",
    "    for token in words:\n",
    "        if token.pos_ == \"ADJ\":\n",
    "            wordList.append(token.lemma_)\n",
    "            nodeAtts.append(token.pos_)\n",
    "            unitList.append(unit)\n",
    "\n",
    "    data = {\n",
    "        'word': wordList,\n",
    "        'nodeType': nodeAtts,\n",
    "        'unit': unitList\n",
    "    }\n",
    "    df = pd.DataFrame(data)\n",
    "    return df\n",
    "\n",
    "allDataFrames = []\n",
    "\n",
    "for file in os.listdir(collPath):\n",
    "    if file.endswith(\".txt\"):\n",
    "        filepath = f\"{collPath}/{file}\"\n",
    "        name, extension = os.path.splitext(file)\n",
    "        with open(filepath, 'r', encoding='utf8') as f:\n",
    "            readFile = f.read()\n",
    "            spacyRead = nlp(readFile)\n",
    "            myDataFrame = wordCollector(spacyRead, name)\n",
    "            allDataFrames.append(myDataFrame)\n",
    "\n",
    "outputFilePath = 'networkData.tsv'\n",
    "fullDataFrame = pd.concat(allDataFrames, ignore_index=True)\n",
    "\n",
    "fullDataFrame.to_csv(outputFilePath, sep='\\t', index=False)\n",
    "print('I just saved a dataframe as a TSV file.')"
   ]
  },
  {
   "cell_type": "code",
   "execution_count": 12,
   "id": "23d22b31-3aee-4895-8835-00831fd04869",
   "metadata": {},
   "outputs": [
    {
     "ename": "FileNotFoundError",
     "evalue": "[Errno 2] No such file or directory: 'github/DIGIT210/notebook_4-15-25/grimm.txt'",
     "output_type": "error",
     "traceback": [
      "\u001b[31m---------------------------------------------------------------------------\u001b[39m",
      "\u001b[31mFileNotFoundError\u001b[39m                         Traceback (most recent call last)",
      "\u001b[36mCell\u001b[39m\u001b[36m \u001b[39m\u001b[32mIn[12]\u001b[39m\u001b[32m, line 30\u001b[39m\n\u001b[32m     26\u001b[39m     \u001b[38;5;28;01mreturn\u001b[39;00m df\n\u001b[32m     28\u001b[39m allDataFrames = []\n\u001b[32m---> \u001b[39m\u001b[32m30\u001b[39m \u001b[38;5;28;01mfor\u001b[39;00m file \u001b[38;5;129;01min\u001b[39;00m \u001b[43mos\u001b[49m\u001b[43m.\u001b[49m\u001b[43mlistdir\u001b[49m\u001b[43m(\u001b[49m\u001b[43mcollPath\u001b[49m\u001b[43m)\u001b[49m:\n\u001b[32m     31\u001b[39m     \u001b[38;5;28;01mif\u001b[39;00m file.endswith(\u001b[33m\"\u001b[39m\u001b[33m.txt\u001b[39m\u001b[33m\"\u001b[39m):\n\u001b[32m     32\u001b[39m         filepath = \u001b[33mf\u001b[39m\u001b[33m\"\u001b[39m\u001b[38;5;132;01m{\u001b[39;00mcollPath\u001b[38;5;132;01m}\u001b[39;00m\u001b[33m/\u001b[39m\u001b[38;5;132;01m{\u001b[39;00mfile\u001b[38;5;132;01m}\u001b[39;00m\u001b[33m\"\u001b[39m\n",
      "\u001b[31mFileNotFoundError\u001b[39m: [Errno 2] No such file or directory: 'github/DIGIT210/notebook_4-15-25/grimm.txt'"
     ]
    }
   ],
   "source": [
    "import pandas as pd\n",
    "import nltk\n",
    "from nltk.corpus import wordnet as wn\n",
    "\n",
    "def wordCollector(words, unit):\n",
    "    wordList = []\n",
    "    nodeAtts = []\n",
    "    synsetCounts = []\n",
    "    unitList = []\n",
    "    for token in words:\n",
    "        if token.pos_ == \"ADJ\":\n",
    "            synsets = len(wn.synsets(token.lemma_))\n",
    "            # We should be able to look up and count those synsets right here!          \n",
    "            wordList.append(token.lemma_)\n",
    "            nodeAtts.append(token.pos_)\n",
    "            synsetCounts.append(synsets)\n",
    "            unitList.append(unit)\n",
    "                          \n",
    "    data = {\n",
    "        'word': wordList,\n",
    "        'nodeType': nodeAtts,\n",
    "        'synsetCount': synsetCounts,\n",
    "        'unit': unitList\n",
    "    }\n",
    "    df = pd.DataFrame(data)\n",
    "    return df\n",
    "\n",
    "allDataFrames = []\n",
    "\n",
    "for file in os.listdir(collPath):\n",
    "    if file.endswith(\".txt\"):\n",
    "        filepath = f\"{collPath}/{file}\"\n",
    "        name, extension = os.path.splitext(file)\n",
    "        with open(filepath, 'r', encoding='utf8') as f:\n",
    "            readFile = f.read()\n",
    "            spacyRead = nlp(readFile)\n",
    "            myDataFrame = wordCollector(spacyRead, name)\n",
    "            allDataFrames.append(myDataFrame)\n",
    "\n",
    "outputFilePath = 'networkData-2.tsv'\n",
    "fullDataFrame = pd.concat(allDataFrames, ignore_index=True)\n",
    "\n",
    "fullDataFrame.to_csv(outputFilePath, sep='\\t', index=False)\n",
    "print('I just saved a NEW dataframe as a NEW TSV file.')"
   ]
  },
  {
   "cell_type": "code",
   "execution_count": null,
   "id": "400c18ca-811e-44f5-820c-ee3b9c4482b4",
   "metadata": {},
   "outputs": [],
   "source": []
  }
 ],
 "metadata": {
  "kernelspec": {
   "display_name": "Python 3 (ipykernel)",
   "language": "python",
   "name": "python3"
  },
  "language_info": {
   "codemirror_mode": {
    "name": "ipython",
    "version": 3
   },
   "file_extension": ".py",
   "mimetype": "text/x-python",
   "name": "python",
   "nbconvert_exporter": "python",
   "pygments_lexer": "ipython3",
   "version": "3.13.2"
  }
 },
 "nbformat": 4,
 "nbformat_minor": 5
}
