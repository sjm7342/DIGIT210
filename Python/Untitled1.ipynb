{
 "cells": [
  {
   "cell_type": "code",
   "execution_count": 1,
   "id": "e3b3bc42-786e-486b-8fb9-09473282153e",
   "metadata": {},
   "outputs": [
    {
     "ename": "NameError",
     "evalue": "name 'request' is not defined",
     "output_type": "error",
     "traceback": [
      "\u001b[0;31m---------------------------------------------------------------------------\u001b[0m",
      "\u001b[0;31mNameError\u001b[0m                                 Traceback (most recent call last)",
      "Cell \u001b[0;32mIn[1], line 2\u001b[0m\n\u001b[1;32m      1\u001b[0m bookurl\u001b[38;5;241m=\u001b[39m \u001b[38;5;124m\"\u001b[39m\u001b[38;5;124mhttps://github.com/sjm7342/DIGIT210/blob/main/Python/grimm.txt\u001b[39m\u001b[38;5;124m\"\u001b[39m\n\u001b[0;32m----> 2\u001b[0m response \u001b[38;5;241m=\u001b[39m \u001b[43mrequest\u001b[49m\u001b[38;5;241m.\u001b[39murlopen(bookurl)\n\u001b[1;32m      3\u001b[0m br \u001b[38;5;241m=\u001b[39m response\u001b[38;5;241m.\u001b[39mread()\u001b[38;5;241m.\u001b[39mdecode(\u001b[38;5;124m'\u001b[39m\u001b[38;5;124mutf8\u001b[39m\u001b[38;5;124m'\u001b[39m)\n\u001b[1;32m      4\u001b[0m \u001b[38;5;28mtype\u001b[39m(br)\n",
      "\u001b[0;31mNameError\u001b[0m: name 'request' is not defined"
     ]
    }
   ],
   "source": [
    "bookurl= \"https://github.com/sjm7342/DIGIT210/blob/main/Python/grimm.txt\"\n",
    "response = request.urlopen(bookurl)\n",
    "br = response.read().decode('utf8')\n",
    "type(br)\n",
    "print(len(br))\n",
    "# make a variable\n",
    "howLong = len(br)\n",
    "# picture string version! \n",
    "print(f\"howLong = {howLong}\")\n",
    "novelSlice = br[:500]\n",
    "print(f\"novelSlice = {novelSlice}\")\n",
    "\n",
    "splitEmUp = br.split()\n",
    "print(f\"splitEmUp = {splitEmUp[-100:]}\")\n",
    "\n",
    "for token in splitEmUp:\n",
    "    if token.endswith('ing'):\n",
    "        print(token)"
   ]
  },
  {
   "cell_type": "code",
   "execution_count": 2,
   "id": "f6d03a69-d38d-4793-a311-05df291b0f43",
   "metadata": {},
   "outputs": [
    {
     "ename": "NameError",
     "evalue": "name 'request' is not defined",
     "output_type": "error",
     "traceback": [
      "\u001b[0;31m---------------------------------------------------------------------------\u001b[0m",
      "\u001b[0;31mNameError\u001b[0m                                 Traceback (most recent call last)",
      "Cell \u001b[0;32mIn[2], line 3\u001b[0m\n\u001b[1;32m      1\u001b[0m \u001b[38;5;66;03m# Blithedale Romance text file on Project Gutenberg\u001b[39;00m\n\u001b[1;32m      2\u001b[0m bookurl\u001b[38;5;241m=\u001b[39m \u001b[38;5;124m\"\u001b[39m\u001b[38;5;124mhttps://www.gutenberg.org/cache/epub/2081/pg2081.txt\u001b[39m\u001b[38;5;124m\"\u001b[39m\n\u001b[0;32m----> 3\u001b[0m response \u001b[38;5;241m=\u001b[39m \u001b[43mrequest\u001b[49m\u001b[38;5;241m.\u001b[39murlopen(bookurl)\n\u001b[1;32m      4\u001b[0m br \u001b[38;5;241m=\u001b[39m response\u001b[38;5;241m.\u001b[39mread()\u001b[38;5;241m.\u001b[39mdecode(\u001b[38;5;124m'\u001b[39m\u001b[38;5;124mutf8\u001b[39m\u001b[38;5;124m'\u001b[39m)\n\u001b[1;32m      5\u001b[0m \u001b[38;5;28mtype\u001b[39m(br)\n",
      "\u001b[0;31mNameError\u001b[0m: name 'request' is not defined"
     ]
    }
   ],
   "source": [
    "# Blithedale Romance text file on Project Gutenberg\n",
    "bookurl= \"https://www.gutenberg.org/cache/epub/2081/pg2081.txt\"\n",
    "response = request.urlopen(bookurl)\n",
    "br = response.read().decode('utf8')\n",
    "type(br)\n",
    "print(len(br))\n",
    "# make a variable\n",
    "howLong = len(br)\n",
    "# picture string version! \n",
    "print(f\"howLong = {howLong}\")\n",
    "novelSlice = br[:500]\n",
    "print(f\"novelSlice = {novelSlice}\")\n",
    "\n",
    "splitEmUp = br.split()\n",
    "print(f\"splitEmUp = {splitEmUp[-100:]}\")\n",
    "\n",
    "for token in splitEmUp:\n",
    "    if token.endswith('ing'):\n",
    "        print(token)\n",
    "    "
   ]
  },
  {
   "cell_type": "code",
   "execution_count": 3,
   "id": "536885ea-02e0-40b9-94aa-f8dd8b1ade4f",
   "metadata": {},
   "outputs": [
    {
     "ename": "NameError",
     "evalue": "name 'request' is not defined",
     "output_type": "error",
     "traceback": [
      "\u001b[0;31m---------------------------------------------------------------------------\u001b[0m",
      "\u001b[0;31mNameError\u001b[0m                                 Traceback (most recent call last)",
      "Cell \u001b[0;32mIn[3], line 3\u001b[0m\n\u001b[1;32m      1\u001b[0m \u001b[38;5;66;03m# Blithedale Romance text file on Project Gutenberg\u001b[39;00m\n\u001b[1;32m      2\u001b[0m bookurl\u001b[38;5;241m=\u001b[39m \u001b[38;5;124m\"\u001b[39m\u001b[38;5;124mhttps://www.gutenberg.org/cache/epub/2081/pg2081.txt\u001b[39m\u001b[38;5;124m\"\u001b[39m\n\u001b[0;32m----> 3\u001b[0m response \u001b[38;5;241m=\u001b[39m \u001b[43mrequest\u001b[49m\u001b[38;5;241m.\u001b[39murlopen(bookurl)\n\u001b[1;32m      4\u001b[0m br \u001b[38;5;241m=\u001b[39m response\u001b[38;5;241m.\u001b[39mread()\u001b[38;5;241m.\u001b[39mdecode(\u001b[38;5;124m'\u001b[39m\u001b[38;5;124mutf8\u001b[39m\u001b[38;5;124m'\u001b[39m)\n\u001b[1;32m      5\u001b[0m \u001b[38;5;28mtype\u001b[39m(br)\n",
      "\u001b[0;31mNameError\u001b[0m: name 'request' is not defined"
     ]
    }
   ],
   "source": [
    "# Blithedale Romance text file on Project Gutenberg\n",
    "bookurl= \"https://www.gutenberg.org/cache/epub/2081/pg2081.txt\"\n",
    "response = request.urlopen(bookurl)\n",
    "br = response.read().decode('utf8')\n",
    "type(br)\n",
    "print(len(br))\n",
    "# make a variable\n",
    "howLong = len(br)\n",
    "# picture string version! \n",
    "print(f\"howLong = {howLong}\")\n",
    "novelSlice = br[:500]\n",
    "print(f\"novelSlice = {novelSlice}\")\n",
    "\n",
    "# splitEmUp = br.split()\n",
    "# print(f\"splitEmUp = {splitEmUp}\")\n",
    "\n",
    "for token in splitEmUp:\n",
    "    if token.endswith('ing'):\n",
    "        print(token)\n",
    "    "
   ]
  },
  {
   "cell_type": "code",
   "execution_count": null,
   "id": "ee9ce041-3e09-4470-9f4f-294fe8af0399",
   "metadata": {},
   "outputs": [],
   "source": []
  }
 ],
 "metadata": {
  "kernelspec": {
   "display_name": "Python 3 (ipykernel)",
   "language": "python",
   "name": "python3"
  },
  "language_info": {
   "codemirror_mode": {
    "name": "ipython",
    "version": 3
   },
   "file_extension": ".py",
   "mimetype": "text/x-python",
   "name": "python",
   "nbconvert_exporter": "python",
   "pygments_lexer": "ipython3",
   "version": "3.9.6"
  }
 },
 "nbformat": 4,
 "nbformat_minor": 5
}
